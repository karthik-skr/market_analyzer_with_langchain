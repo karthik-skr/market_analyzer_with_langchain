{
 "cells": [
  {
   "cell_type": "code",
   "execution_count": 133,
   "id": "3598270c",
   "metadata": {},
   "outputs": [],
   "source": [
    "!pip install langfuse langchain langchain-experimental langchain-openai yfinance python-dotenv --quiet"
   ]
  },
  {
   "cell_type": "code",
   "execution_count": 134,
   "id": "2d9845e9",
   "metadata": {},
   "outputs": [
    {
     "data": {
      "text/plain": [
       "True"
      ]
     },
     "execution_count": 134,
     "metadata": {},
     "output_type": "execute_result"
    }
   ],
   "source": [
    "import os\n",
    "from dotenv import load_dotenv\n",
    "\n",
    "load_dotenv()  # Load variables from .env\n"
   ]
  },
  {
   "cell_type": "code",
   "execution_count": 135,
   "id": "9188ce00",
   "metadata": {},
   "outputs": [],
   "source": [
    "from langchain_openai import AzureChatOpenAI\n",
    "llm = AzureChatOpenAI(api_version=\"2024-12-01-preview\",model= os.getenv(\"AZURE_DEPLOYED_MODEL_NAME\"))"
   ]
  },
  {
   "cell_type": "code",
   "execution_count": 136,
   "id": "a22bf2b8",
   "metadata": {},
   "outputs": [],
   "source": [
    "from langfuse import Langfuse\n",
    "lf = Langfuse(\n",
    "    public_key=os.getenv(\"LANGFUSE_PUBLIC_KEY\"), \n",
    "    secret_key=os.getenv(\"LANGFUSE_SECRET_KEY\"),\n",
    "    host=os.getenv(\"LANGFUSE_HOST\")\n",
    ")"
   ]
  },
  {
   "cell_type": "code",
   "execution_count": 137,
   "id": "f119f3ce",
   "metadata": {},
   "outputs": [
    {
     "data": {
      "text/plain": [
       "<langfuse.model.TextPromptClient at 0x168536db930>"
      ]
     },
     "execution_count": 137,
     "metadata": {},
     "output_type": "execute_result"
    }
   ],
   "source": [
    "prompt = \"\"\"\n",
    "    You are a financial news analyst, given the news summary about company {company_name}:\n",
    "    \"{news}\"\n",
    "    Classify the sentiment and extract entities into the following JSON format:\n",
    "    {format_instructions}\n",
    "    \"\"\"\n",
    "lf.create_prompt(\n",
    "    name=\"market_sentiment_analyzer_prompt\",\n",
    "    prompt=prompt,\n",
    "    labels=[\"production\"]\n",
    ")\n"
   ]
  },
  {
   "cell_type": "code",
   "execution_count": 138,
   "id": "07fab7b3",
   "metadata": {},
   "outputs": [
    {
     "data": {
      "text/plain": [
       "'AAPL'"
      ]
     },
     "execution_count": 138,
     "metadata": {},
     "output_type": "execute_result"
    }
   ],
   "source": [
    "import requests\n",
    "\n",
    "def get_company_stock_code(company_name):\n",
    "    url = \"https://query1.finance.yahoo.com/v1/finance/search\"\n",
    "    params = {\"q\": company_name}\n",
    "    headers = {\n",
    "        \"User-Agent\": \"Mozilla/5.0\"\n",
    "    }\n",
    "    response = requests.get(url, params=params, headers=headers)\n",
    "    data = response.json()\n",
    "\n",
    "    if data.get(\"quotes\"):\n",
    "        return data[\"quotes\"][0][\"symbol\"]\n",
    "    return \"UNKNOWN\"\n",
    "\n",
    "get_company_stock_code(\"Apple\")"
   ]
  },
  {
   "cell_type": "code",
   "execution_count": 139,
   "id": "48de42b6",
   "metadata": {},
   "outputs": [
    {
     "data": {
      "text/plain": [
       "\"Ex-Apple Engineers Behind $200M Xnor Deal Launch ElastixAI, Secure $16M To Revolutionize AI Inference Across Devices\\nSeattle-based ElastixAI, founded just months ago by veteran engineers behind Apple's (NASDAQ:AAPL) $200 million acquisition of Xnor, has raised $16 million from top-tier investors, including Bellevue-based capital venture company FUSE. The stealth-mode startup with elite Apple pedigree is quietly tackling one of the most expensive pain points in artificial intelligence deployment: inference, GeekWire reports. Don't Miss: Hasbro, MGM, and Skechers trust this AI marketing firm — Invest before it's\\n\\nMark Zuckerberg Once Vented Why Apple AirPods Have No Competition: 'One Of The Protocols That They Used...'\\nMeta Platforms Inc. (NASDAQ:META) CEO Mark Zuckerberg had once criticized the proprietary AirPods protocol of Apple Inc. (NASDAQ:AAPL), advocating for it to be made accessible to competitors. What Happened: Zuckerberg, on the Joe Rogan Podcast episode 2255, expressed his concerns over Apple’s exclusive AirPods protocol, which provides effortless connectivity with iPhones, claiming it to be an unjust limitation on competitors. Zuckerberg rejected Apple’s assertions of privacy and security risks,\\n\\nDan Ives Fires Back: Trump’s Apple Plan Needs ‘Herculean Logistics’\\nOn Friday, May 23, Wedbush analyst Dan Ives rebuked President Donald Trump’s announcement of a special tariff on Apple Inc. (NASDAQ:AAPL) iPhones. In a bold move that could escalate tariff tensions, President Donald Trump demanded that Apple and other smartphone makers manufacture their phones in the United States- or face a 25% tariff instead. “I […]\\n\\nTrump threatens Apple Inc. (AAPL) with New Tariffs if iPhones Not Made in U.S.\\nPresident Trump has threatened Apple Inc. (NASDAQ:AAPL) with a 25% tariff for iPhones made outside the country. The latest jab follows Trump’s displeasure with Tim Cook over the company’s plans to manufacture iPhones set to be sold in the U.S. at its new plants in India. Trump on Friday posted the following on Truth Social: […]\""
      ]
     },
     "execution_count": 139,
     "metadata": {},
     "output_type": "execute_result"
    }
   ],
   "source": [
    "from langchain_community.tools.yahoo_finance_news import YahooFinanceNewsTool\n",
    "\n",
    "def fetch_company_finance_news(stock_code):\n",
    "    tool = YahooFinanceNewsTool()\n",
    "    result = tool.invoke(stock_code)\n",
    "    return result\n",
    "\n",
    "fetch_company_finance_news('AAPL')"
   ]
  },
  {
   "cell_type": "code",
   "execution_count": 140,
   "id": "e3ab7483",
   "metadata": {},
   "outputs": [],
   "source": [
    "from pydantic import BaseModel, Field\n",
    "from typing import List\n",
    "from langchain_core.output_parsers import PydanticOutputParser\n",
    "\n",
    "class OutputSchema(BaseModel):\n",
    "    company_name: str\n",
    "    stock_code: str\n",
    "    newsdesc: str\n",
    "    sentiment: str\n",
    "    people_names: List[str]\n",
    "    places_names: List[str]\n",
    "    other_companies_referred: List[str]\n",
    "    related_industries: List[str]\n",
    "    market_implications: str\n",
    "    confidence_score: float\n",
    "\n",
    "parser = PydanticOutputParser(pydantic_object=OutputSchema)"
   ]
  },
  {
   "cell_type": "code",
   "execution_count": 142,
   "id": "a6fefc26",
   "metadata": {},
   "outputs": [],
   "source": [
    "from langchain_core.prompts import PromptTemplate\n",
    "\n",
    "def sentiment_analyzer(company_name):\n",
    "    trace = lf.trace(name=\"market_sentiment_analyzer\", input={\"company\": company_name})\n",
    "\n",
    "    span1 = trace.span(name=\"get_company_stock_code\", input={\"company_name\": company_name})\n",
    "    stock_code = get_company_stock_code(company_name)\n",
    "    span1.end(output={\"stock_code\": stock_code})\n",
    "    if stock_code == \"UNKNOWN\":\n",
    "        return \"UNKNOWN\"\n",
    "\n",
    "    span2 = trace.span(name=\"fetch_company_finance_news\", input={\"stock_code\": stock_code})\n",
    "    news = fetch_company_finance_news(stock_code)\n",
    "    span2.end(output={\"news\": news})\n",
    "\n",
    "    span3 = trace.span(name=\"analyze_sentiment\", input={\"news\": news})\n",
    "\n",
    "    prompt = PromptTemplate.from_template(\n",
    "        lf.get_prompt(\"market_sentiment_analyzer_prompt\").prompt\n",
    "    )\n",
    "    chain = prompt | llm | parser\n",
    "    output = chain.invoke({\n",
    "        \"company_name\": company_name,\n",
    "        \"news\": news,\n",
    "        \"format_instructions\": parser.get_format_instructions()\n",
    "    })\n",
    "\n",
    "    span3.end(output=output)\n",
    "\n",
    "    return output.model_dump()"
   ]
  },
  {
   "cell_type": "code",
   "execution_count": 143,
   "id": "44853e7b",
   "metadata": {},
   "outputs": [
    {
     "data": {
      "text/plain": [
       "{'company_name': 'Apple Inc.',\n",
       " 'stock_code': 'NASDAQ:AAPL',\n",
       " 'newsdesc': \"Ex-Apple Engineers Behind $200M Xnor Deal Launch ElastixAI, Secure $16M To Revolutionize AI Inference Across Devices. Seattle-based ElastixAI, founded just months ago by veteran engineers behind Apple's $200 million acquisition of Xnor, has raised $16 million from top-tier investors, including Bellevue-based capital venture company FUSE. The stealth-mode startup with elite Apple pedigree is quietly tackling one of the most expensive pain points in artificial intelligence deployment: inference. Mark Zuckerberg Once Vented Why Apple AirPods Have No Competition: 'One Of The Protocols That They Used...'. Meta Platforms Inc. (NASDAQ:META) CEO Mark Zuckerberg had once criticized the proprietary AirPods protocol of Apple Inc., advocating for it to be made accessible to competitors. Dan Ives Fires Back: Trump’s Apple Plan Needs ‘Herculean Logistics’. On Friday, May 23, Wedbush analyst Dan Ives rebuked President Trump’s announcement of a special tariff on Apple Inc. iPhones. President Trump has threatened Apple Inc. with a 25% tariff for iPhones made outside the country. The latest jab follows Trump’s displeasure with Tim Cook over the company’s plans to manufacture iPhones set to be sold in the U.S. at its new plants in India.\",\n",
       " 'sentiment': 'Mixed',\n",
       " 'people_names': ['Mark Zuckerberg', 'Tim Cook', 'Donald Trump', 'Dan Ives'],\n",
       " 'places_names': ['Seattle', 'India'],\n",
       " 'other_companies_referred': ['Meta Platforms Inc.',\n",
       "  'FUSE',\n",
       "  'Hasbro',\n",
       "  'MGM',\n",
       "  'Skechers'],\n",
       " 'related_industries': ['Technology',\n",
       "  'Artificial Intelligence',\n",
       "  'Telecommunications'],\n",
       " 'market_implications': 'The developments indicate both opportunities and challenges for Apple, including competitive pressures in AI and potential tariff costs that could impact pricing strategies.',\n",
       " 'confidence_score': 0.85}"
      ]
     },
     "execution_count": 143,
     "metadata": {},
     "output_type": "execute_result"
    }
   ],
   "source": [
    "sentiment_analyzer(\"apple\")"
   ]
  },
  {
   "cell_type": "code",
   "execution_count": 144,
   "id": "e2879747",
   "metadata": {},
   "outputs": [
    {
     "data": {
      "text/plain": [
       "{'company_name': 'Alphabet Inc.',\n",
       " 'stock_code': 'GOOG',\n",
       " 'newsdesc': 'Investment bank TD Cowen, focusing on the potential of Alphabet Inc. (NASDAQ:GOOG)’s Waymo, kept a $195 price target and a Buy rating on GOOG recently. TD Cowen’s Analysis of Waymo The investment bank predicts that the U.S. gross bookings of Waymo, Alphabet Inc. (NASDAQ:GOOG)’s self-driving subsidiary, will jump to $6.1 billion in 2034. Disney (DIS) has filed a lawsuit against Alphabet’s (GOOG) (GOOGL) YouTube, claiming breach of contract after YouTube hired longtime Disney executive Justin Connolly as its global head of media and sports. Disney claims Connolly’s departure breaches his three-year contract and is seeking injunctions to stop his appointment.',\n",
       " 'sentiment': 'mixed',\n",
       " 'people_names': ['Justin Connolly'],\n",
       " 'places_names': [],\n",
       " 'other_companies_referred': ['Disney', 'YouTube'],\n",
       " 'related_industries': ['Technology', 'Media', 'Automotive'],\n",
       " 'market_implications': \"Positive outlook for Alphabet's self-driving technology amidst legal challenges from Disney.\",\n",
       " 'confidence_score': 0.7}"
      ]
     },
     "execution_count": 144,
     "metadata": {},
     "output_type": "execute_result"
    }
   ],
   "source": [
    "sentiment_analyzer(\"Google\")"
   ]
  },
  {
   "cell_type": "code",
   "execution_count": 145,
   "id": "351f9fb0",
   "metadata": {},
   "outputs": [
    {
     "data": {
      "text/plain": [
       "'UNKNOWN'"
      ]
     },
     "execution_count": 145,
     "metadata": {},
     "output_type": "execute_result"
    }
   ],
   "source": [
    "sentiment_analyzer(\"Googgle\")"
   ]
  }
 ],
 "metadata": {
  "kernelspec": {
   "display_name": "venv",
   "language": "python",
   "name": "python3"
  },
  "language_info": {
   "codemirror_mode": {
    "name": "ipython",
    "version": 3
   },
   "file_extension": ".py",
   "mimetype": "text/x-python",
   "name": "python",
   "nbconvert_exporter": "python",
   "pygments_lexer": "ipython3",
   "version": "3.13.2"
  }
 },
 "nbformat": 4,
 "nbformat_minor": 5
}
