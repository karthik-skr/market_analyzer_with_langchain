{
 "cells": [
  {
   "cell_type": "code",
   "execution_count": 111,
   "id": "3598270c",
   "metadata": {},
   "outputs": [
    {
     "name": "stdout",
     "output_type": "stream",
     "text": [
      "Requirement already satisfied: langchain in d:\\genai architect training\\venv\\lib\\site-packages (0.3.25)\n",
      "Requirement already satisfied: langchain-experimental in d:\\genai architect training\\venv\\lib\\site-packages (0.3.4)\n",
      "Requirement already satisfied: langchain-openai in d:\\genai architect training\\venv\\lib\\site-packages (0.3.18)\n",
      "Requirement already satisfied: yfinance in d:\\genai architect training\\venv\\lib\\site-packages (0.2.61)\n",
      "Requirement already satisfied: langchain-core<1.0.0,>=0.3.58 in d:\\genai architect training\\venv\\lib\\site-packages (from langchain) (0.3.61)\n",
      "Requirement already satisfied: langchain-text-splitters<1.0.0,>=0.3.8 in d:\\genai architect training\\venv\\lib\\site-packages (from langchain) (0.3.8)\n",
      "Requirement already satisfied: langsmith<0.4,>=0.1.17 in d:\\genai architect training\\venv\\lib\\site-packages (from langchain) (0.3.42)\n",
      "Requirement already satisfied: pydantic<3.0.0,>=2.7.4 in d:\\genai architect training\\venv\\lib\\site-packages (from langchain) (2.11.5)\n",
      "Requirement already satisfied: SQLAlchemy<3,>=1.4 in d:\\genai architect training\\venv\\lib\\site-packages (from langchain) (2.0.41)\n",
      "Requirement already satisfied: requests<3,>=2 in d:\\genai architect training\\venv\\lib\\site-packages (from langchain) (2.32.3)\n",
      "Requirement already satisfied: PyYAML>=5.3 in d:\\genai architect training\\venv\\lib\\site-packages (from langchain) (6.0.2)\n",
      "Requirement already satisfied: tenacity!=8.4.0,<10.0.0,>=8.1.0 in d:\\genai architect training\\venv\\lib\\site-packages (from langchain-core<1.0.0,>=0.3.58->langchain) (9.1.2)\n",
      "Requirement already satisfied: jsonpatch<2.0,>=1.33 in d:\\genai architect training\\venv\\lib\\site-packages (from langchain-core<1.0.0,>=0.3.58->langchain) (1.33)\n",
      "Requirement already satisfied: packaging<25,>=23.2 in d:\\genai architect training\\venv\\lib\\site-packages (from langchain-core<1.0.0,>=0.3.58->langchain) (24.2)\n",
      "Requirement already satisfied: typing-extensions>=4.7 in d:\\genai architect training\\venv\\lib\\site-packages (from langchain-core<1.0.0,>=0.3.58->langchain) (4.13.2)\n",
      "Requirement already satisfied: jsonpointer>=1.9 in d:\\genai architect training\\venv\\lib\\site-packages (from jsonpatch<2.0,>=1.33->langchain-core<1.0.0,>=0.3.58->langchain) (3.0.0)\n",
      "Requirement already satisfied: httpx<1,>=0.23.0 in d:\\genai architect training\\venv\\lib\\site-packages (from langsmith<0.4,>=0.1.17->langchain) (0.28.1)\n",
      "Requirement already satisfied: orjson<4.0.0,>=3.9.14 in d:\\genai architect training\\venv\\lib\\site-packages (from langsmith<0.4,>=0.1.17->langchain) (3.10.18)\n",
      "Requirement already satisfied: requests-toolbelt<2.0.0,>=1.0.0 in d:\\genai architect training\\venv\\lib\\site-packages (from langsmith<0.4,>=0.1.17->langchain) (1.0.0)\n",
      "Requirement already satisfied: zstandard<0.24.0,>=0.23.0 in d:\\genai architect training\\venv\\lib\\site-packages (from langsmith<0.4,>=0.1.17->langchain) (0.23.0)\n",
      "Requirement already satisfied: anyio in d:\\genai architect training\\venv\\lib\\site-packages (from httpx<1,>=0.23.0->langsmith<0.4,>=0.1.17->langchain) (4.9.0)\n",
      "Requirement already satisfied: certifi in d:\\genai architect training\\venv\\lib\\site-packages (from httpx<1,>=0.23.0->langsmith<0.4,>=0.1.17->langchain) (2025.4.26)\n",
      "Requirement already satisfied: httpcore==1.* in d:\\genai architect training\\venv\\lib\\site-packages (from httpx<1,>=0.23.0->langsmith<0.4,>=0.1.17->langchain) (1.0.9)\n",
      "Requirement already satisfied: idna in d:\\genai architect training\\venv\\lib\\site-packages (from httpx<1,>=0.23.0->langsmith<0.4,>=0.1.17->langchain) (3.10)\n",
      "Requirement already satisfied: h11>=0.16 in d:\\genai architect training\\venv\\lib\\site-packages (from httpcore==1.*->httpx<1,>=0.23.0->langsmith<0.4,>=0.1.17->langchain) (0.16.0)\n",
      "Requirement already satisfied: annotated-types>=0.6.0 in d:\\genai architect training\\venv\\lib\\site-packages (from pydantic<3.0.0,>=2.7.4->langchain) (0.7.0)\n",
      "Requirement already satisfied: pydantic-core==2.33.2 in d:\\genai architect training\\venv\\lib\\site-packages (from pydantic<3.0.0,>=2.7.4->langchain) (2.33.2)\n",
      "Requirement already satisfied: typing-inspection>=0.4.0 in d:\\genai architect training\\venv\\lib\\site-packages (from pydantic<3.0.0,>=2.7.4->langchain) (0.4.1)\n",
      "Requirement already satisfied: charset-normalizer<4,>=2 in d:\\genai architect training\\venv\\lib\\site-packages (from requests<3,>=2->langchain) (3.4.2)\n",
      "Requirement already satisfied: urllib3<3,>=1.21.1 in d:\\genai architect training\\venv\\lib\\site-packages (from requests<3,>=2->langchain) (2.4.0)\n",
      "Requirement already satisfied: greenlet>=1 in d:\\genai architect training\\venv\\lib\\site-packages (from SQLAlchemy<3,>=1.4->langchain) (3.2.2)\n",
      "Requirement already satisfied: langchain-community<0.4.0,>=0.3.0 in d:\\genai architect training\\venv\\lib\\site-packages (from langchain-experimental) (0.3.24)\n",
      "Requirement already satisfied: aiohttp<4.0.0,>=3.8.3 in d:\\genai architect training\\venv\\lib\\site-packages (from langchain-community<0.4.0,>=0.3.0->langchain-experimental) (3.11.18)\n",
      "Requirement already satisfied: dataclasses-json<0.7,>=0.5.7 in d:\\genai architect training\\venv\\lib\\site-packages (from langchain-community<0.4.0,>=0.3.0->langchain-experimental) (0.6.7)\n",
      "Requirement already satisfied: pydantic-settings<3.0.0,>=2.4.0 in d:\\genai architect training\\venv\\lib\\site-packages (from langchain-community<0.4.0,>=0.3.0->langchain-experimental) (2.9.1)\n",
      "Requirement already satisfied: httpx-sse<1.0.0,>=0.4.0 in d:\\genai architect training\\venv\\lib\\site-packages (from langchain-community<0.4.0,>=0.3.0->langchain-experimental) (0.4.0)\n",
      "Requirement already satisfied: numpy>=2.1.0 in d:\\genai architect training\\venv\\lib\\site-packages (from langchain-community<0.4.0,>=0.3.0->langchain-experimental) (2.2.6)\n",
      "Requirement already satisfied: aiohappyeyeballs>=2.3.0 in d:\\genai architect training\\venv\\lib\\site-packages (from aiohttp<4.0.0,>=3.8.3->langchain-community<0.4.0,>=0.3.0->langchain-experimental) (2.6.1)\n",
      "Requirement already satisfied: aiosignal>=1.1.2 in d:\\genai architect training\\venv\\lib\\site-packages (from aiohttp<4.0.0,>=3.8.3->langchain-community<0.4.0,>=0.3.0->langchain-experimental) (1.3.2)\n",
      "Requirement already satisfied: attrs>=17.3.0 in d:\\genai architect training\\venv\\lib\\site-packages (from aiohttp<4.0.0,>=3.8.3->langchain-community<0.4.0,>=0.3.0->langchain-experimental) (25.3.0)\n",
      "Requirement already satisfied: frozenlist>=1.1.1 in d:\\genai architect training\\venv\\lib\\site-packages (from aiohttp<4.0.0,>=3.8.3->langchain-community<0.4.0,>=0.3.0->langchain-experimental) (1.6.0)\n",
      "Requirement already satisfied: multidict<7.0,>=4.5 in d:\\genai architect training\\venv\\lib\\site-packages (from aiohttp<4.0.0,>=3.8.3->langchain-community<0.4.0,>=0.3.0->langchain-experimental) (6.4.4)\n",
      "Requirement already satisfied: propcache>=0.2.0 in d:\\genai architect training\\venv\\lib\\site-packages (from aiohttp<4.0.0,>=3.8.3->langchain-community<0.4.0,>=0.3.0->langchain-experimental) (0.3.1)\n",
      "Requirement already satisfied: yarl<2.0,>=1.17.0 in d:\\genai architect training\\venv\\lib\\site-packages (from aiohttp<4.0.0,>=3.8.3->langchain-community<0.4.0,>=0.3.0->langchain-experimental) (1.20.0)\n",
      "Requirement already satisfied: marshmallow<4.0.0,>=3.18.0 in d:\\genai architect training\\venv\\lib\\site-packages (from dataclasses-json<0.7,>=0.5.7->langchain-community<0.4.0,>=0.3.0->langchain-experimental) (3.26.1)\n",
      "Requirement already satisfied: typing-inspect<1,>=0.4.0 in d:\\genai architect training\\venv\\lib\\site-packages (from dataclasses-json<0.7,>=0.5.7->langchain-community<0.4.0,>=0.3.0->langchain-experimental) (0.9.0)\n",
      "Requirement already satisfied: python-dotenv>=0.21.0 in d:\\genai architect training\\venv\\lib\\site-packages (from pydantic-settings<3.0.0,>=2.4.0->langchain-community<0.4.0,>=0.3.0->langchain-experimental) (1.1.0)\n",
      "Requirement already satisfied: mypy-extensions>=0.3.0 in d:\\genai architect training\\venv\\lib\\site-packages (from typing-inspect<1,>=0.4.0->dataclasses-json<0.7,>=0.5.7->langchain-community<0.4.0,>=0.3.0->langchain-experimental) (1.1.0)\n",
      "Requirement already satisfied: openai<2.0.0,>=1.68.2 in d:\\genai architect training\\venv\\lib\\site-packages (from langchain-openai) (1.82.0)\n",
      "Requirement already satisfied: tiktoken<1,>=0.7 in d:\\genai architect training\\venv\\lib\\site-packages (from langchain-openai) (0.9.0)\n",
      "Requirement already satisfied: distro<2,>=1.7.0 in d:\\genai architect training\\venv\\lib\\site-packages (from openai<2.0.0,>=1.68.2->langchain-openai) (1.9.0)\n",
      "Requirement already satisfied: jiter<1,>=0.4.0 in d:\\genai architect training\\venv\\lib\\site-packages (from openai<2.0.0,>=1.68.2->langchain-openai) (0.10.0)\n",
      "Requirement already satisfied: sniffio in d:\\genai architect training\\venv\\lib\\site-packages (from openai<2.0.0,>=1.68.2->langchain-openai) (1.3.1)\n",
      "Requirement already satisfied: tqdm>4 in d:\\genai architect training\\venv\\lib\\site-packages (from openai<2.0.0,>=1.68.2->langchain-openai) (4.67.1)\n",
      "Requirement already satisfied: regex>=2022.1.18 in d:\\genai architect training\\venv\\lib\\site-packages (from tiktoken<1,>=0.7->langchain-openai) (2024.11.6)\n",
      "Requirement already satisfied: pandas>=1.3.0 in d:\\genai architect training\\venv\\lib\\site-packages (from yfinance) (2.2.3)\n",
      "Requirement already satisfied: multitasking>=0.0.7 in d:\\genai architect training\\venv\\lib\\site-packages (from yfinance) (0.0.11)\n",
      "Requirement already satisfied: platformdirs>=2.0.0 in d:\\genai architect training\\venv\\lib\\site-packages (from yfinance) (4.3.8)\n",
      "Requirement already satisfied: pytz>=2022.5 in d:\\genai architect training\\venv\\lib\\site-packages (from yfinance) (2025.2)\n",
      "Requirement already satisfied: frozendict>=2.3.4 in d:\\genai architect training\\venv\\lib\\site-packages (from yfinance) (2.4.6)\n",
      "Requirement already satisfied: peewee>=3.16.2 in d:\\genai architect training\\venv\\lib\\site-packages (from yfinance) (3.18.1)\n",
      "Requirement already satisfied: beautifulsoup4>=4.11.1 in d:\\genai architect training\\venv\\lib\\site-packages (from yfinance) (4.13.4)\n",
      "Requirement already satisfied: curl_cffi>=0.7 in d:\\genai architect training\\venv\\lib\\site-packages (from yfinance) (0.11.1)\n",
      "Requirement already satisfied: protobuf>=3.19.0 in d:\\genai architect training\\venv\\lib\\site-packages (from yfinance) (6.31.0)\n",
      "Requirement already satisfied: websockets>=13.0 in d:\\genai architect training\\venv\\lib\\site-packages (from yfinance) (15.0.1)\n",
      "Requirement already satisfied: soupsieve>1.2 in d:\\genai architect training\\venv\\lib\\site-packages (from beautifulsoup4>=4.11.1->yfinance) (2.7)\n",
      "Requirement already satisfied: cffi>=1.12.0 in d:\\genai architect training\\venv\\lib\\site-packages (from curl_cffi>=0.7->yfinance) (1.17.1)\n",
      "Requirement already satisfied: pycparser in d:\\genai architect training\\venv\\lib\\site-packages (from cffi>=1.12.0->curl_cffi>=0.7->yfinance) (2.22)\n",
      "Requirement already satisfied: python-dateutil>=2.8.2 in d:\\genai architect training\\venv\\lib\\site-packages (from pandas>=1.3.0->yfinance) (2.9.0.post0)\n",
      "Requirement already satisfied: tzdata>=2022.7 in d:\\genai architect training\\venv\\lib\\site-packages (from pandas>=1.3.0->yfinance) (2025.2)\n",
      "Requirement already satisfied: six>=1.5 in d:\\genai architect training\\venv\\lib\\site-packages (from python-dateutil>=2.8.2->pandas>=1.3.0->yfinance) (1.17.0)\n",
      "Requirement already satisfied: colorama in d:\\genai architect training\\venv\\lib\\site-packages (from tqdm>4->openai<2.0.0,>=1.68.2->langchain-openai) (0.4.6)\n",
      "Requirement already satisfied: python-dotenv in d:\\genai architect training\\venv\\lib\\site-packages (1.1.0)\n",
      "Requirement already satisfied: langfuse in d:\\genai architect training\\venv\\lib\\site-packages (2.60.5)\n",
      "Requirement already satisfied: anyio<5.0.0,>=4.4.0 in d:\\genai architect training\\venv\\lib\\site-packages (from langfuse) (4.9.0)\n",
      "Requirement already satisfied: backoff>=1.10.0 in d:\\genai architect training\\venv\\lib\\site-packages (from langfuse) (2.2.1)\n",
      "Requirement already satisfied: httpx<1.0,>=0.15.4 in d:\\genai architect training\\venv\\lib\\site-packages (from langfuse) (0.28.1)\n",
      "Requirement already satisfied: idna<4.0,>=3.7 in d:\\genai architect training\\venv\\lib\\site-packages (from langfuse) (3.10)\n",
      "Requirement already satisfied: packaging<25.0,>=23.2 in d:\\genai architect training\\venv\\lib\\site-packages (from langfuse) (24.2)\n",
      "Requirement already satisfied: pydantic<3.0,>=1.10.7 in d:\\genai architect training\\venv\\lib\\site-packages (from langfuse) (2.11.5)\n",
      "Requirement already satisfied: requests<3,>=2 in d:\\genai architect training\\venv\\lib\\site-packages (from langfuse) (2.32.3)\n",
      "Requirement already satisfied: wrapt<2.0,>=1.14 in d:\\genai architect training\\venv\\lib\\site-packages (from langfuse) (1.17.2)\n",
      "Requirement already satisfied: sniffio>=1.1 in d:\\genai architect training\\venv\\lib\\site-packages (from anyio<5.0.0,>=4.4.0->langfuse) (1.3.1)\n",
      "Requirement already satisfied: certifi in d:\\genai architect training\\venv\\lib\\site-packages (from httpx<1.0,>=0.15.4->langfuse) (2025.4.26)\n",
      "Requirement already satisfied: httpcore==1.* in d:\\genai architect training\\venv\\lib\\site-packages (from httpx<1.0,>=0.15.4->langfuse) (1.0.9)\n",
      "Requirement already satisfied: h11>=0.16 in d:\\genai architect training\\venv\\lib\\site-packages (from httpcore==1.*->httpx<1.0,>=0.15.4->langfuse) (0.16.0)\n",
      "Requirement already satisfied: annotated-types>=0.6.0 in d:\\genai architect training\\venv\\lib\\site-packages (from pydantic<3.0,>=1.10.7->langfuse) (0.7.0)\n",
      "Requirement already satisfied: pydantic-core==2.33.2 in d:\\genai architect training\\venv\\lib\\site-packages (from pydantic<3.0,>=1.10.7->langfuse) (2.33.2)\n",
      "Requirement already satisfied: typing-extensions>=4.12.2 in d:\\genai architect training\\venv\\lib\\site-packages (from pydantic<3.0,>=1.10.7->langfuse) (4.13.2)\n",
      "Requirement already satisfied: typing-inspection>=0.4.0 in d:\\genai architect training\\venv\\lib\\site-packages (from pydantic<3.0,>=1.10.7->langfuse) (0.4.1)\n",
      "Requirement already satisfied: charset-normalizer<4,>=2 in d:\\genai architect training\\venv\\lib\\site-packages (from requests<3,>=2->langfuse) (3.4.2)\n",
      "Requirement already satisfied: urllib3<3,>=1.21.1 in d:\\genai architect training\\venv\\lib\\site-packages (from requests<3,>=2->langfuse) (2.4.0)\n"
     ]
    }
   ],
   "source": [
    "!pip install langfuse --quiet\n",
    "!pip install langchain langchain-experimental langchain-openai yfinance\n",
    "!pip install python-dotenv\n",
    "!pip install --upgrade langfuse"
   ]
  },
  {
   "cell_type": "code",
   "execution_count": 75,
   "id": "2d9845e9",
   "metadata": {},
   "outputs": [
    {
     "data": {
      "text/plain": [
       "True"
      ]
     },
     "execution_count": 75,
     "metadata": {},
     "output_type": "execute_result"
    }
   ],
   "source": [
    "import os\n",
    "from dotenv import load_dotenv\n",
    "\n",
    "load_dotenv()  # Load variables from .env\n"
   ]
  },
  {
   "cell_type": "code",
   "execution_count": 68,
   "id": "9188ce00",
   "metadata": {},
   "outputs": [],
   "source": [
    "from langchain_openai import AzureChatOpenAI\n",
    "llm = AzureChatOpenAI(api_version=\"2024-12-01-preview\",model= os.getenv(\"AZURE_DEPLOYED_MODEL_NAME\"))"
   ]
  },
  {
   "cell_type": "code",
   "execution_count": 112,
   "id": "a22bf2b8",
   "metadata": {},
   "outputs": [],
   "source": [
    "from langfuse import Langfuse\n",
    "lf = Langfuse(\n",
    "    public_key=os.getenv(\"LANGFUSE_PUBLIC_KEY\"), \n",
    "    secret_key=os.getenv(\"LANGFUSE_SECRET_KEY\"),\n",
    "    host=os.getenv(\"LANGFUSE_HOST\")\n",
    ")"
   ]
  },
  {
   "cell_type": "code",
   "execution_count": 97,
   "id": "f119f3ce",
   "metadata": {},
   "outputs": [
    {
     "data": {
      "text/plain": [
       "<langfuse.model.TextPromptClient at 0x168532b3240>"
      ]
     },
     "execution_count": 97,
     "metadata": {},
     "output_type": "execute_result"
    }
   ],
   "source": [
    "prompt = \"\"\"\n",
    "    You are a financial news analyst, given the news summary about company {company_name}:\n",
    "    \"{news}\"\n",
    "    Classify the sentiment and extract entities into the following JSON format:\n",
    "    {format_instructions}\n",
    "    \"\"\"\n",
    "lf.create_prompt(\n",
    "    name=\"market_sentiment_analyzer_prompt\",\n",
    "    prompt=prompt,\n",
    "    labels=[\"production\"]\n",
    ")\n"
   ]
  },
  {
   "cell_type": "code",
   "execution_count": 117,
   "id": "07fab7b3",
   "metadata": {},
   "outputs": [
    {
     "data": {
      "text/plain": [
       "'AAPL'"
      ]
     },
     "execution_count": 117,
     "metadata": {},
     "output_type": "execute_result"
    }
   ],
   "source": [
    "import requests\n",
    "\n",
    "def get_company_stock_code(company_name):\n",
    "    url = \"https://query1.finance.yahoo.com/v1/finance/search\"\n",
    "    params = {\"q\": company_name}\n",
    "    headers = {\n",
    "        \"User-Agent\": \"Mozilla/5.0\"\n",
    "    }\n",
    "    response = requests.get(url, params=params, headers=headers)\n",
    "    data = response.json()\n",
    "\n",
    "    if data.get(\"quotes\"):\n",
    "        return data[\"quotes\"][0][\"symbol\"]\n",
    "    return \"UNKNOWN\"\n",
    "\n",
    "get_company_stock_code(\"Apple\")"
   ]
  },
  {
   "cell_type": "code",
   "execution_count": 118,
   "id": "48de42b6",
   "metadata": {},
   "outputs": [
    {
     "data": {
      "text/plain": [
       "\"Ex-Apple Engineers Behind $200M Xnor Deal Launch ElastixAI, Secure $16M To Revolutionize AI Inference Across Devices\\nSeattle-based ElastixAI, founded just months ago by veteran engineers behind Apple's (NASDAQ:AAPL) $200 million acquisition of Xnor, has raised $16 million from top-tier investors, including Bellevue-based capital venture company FUSE. The stealth-mode startup with elite Apple pedigree is quietly tackling one of the most expensive pain points in artificial intelligence deployment: inference, GeekWire reports. Don't Miss: Hasbro, MGM, and Skechers trust this AI marketing firm — Invest before it's\\n\\nMark Zuckerberg Once Vented Why Apple AirPods Have No Competition: 'One Of The Protocols That They Used...'\\nMeta Platforms Inc. (NASDAQ:META) CEO Mark Zuckerberg had once criticized the proprietary AirPods protocol of Apple Inc. (NASDAQ:AAPL), advocating for it to be made accessible to competitors. What Happened: Zuckerberg, on the Joe Rogan Podcast episode 2255, expressed his concerns over Apple’s exclusive AirPods protocol, which provides effortless connectivity with iPhones, claiming it to be an unjust limitation on competitors. Zuckerberg rejected Apple’s assertions of privacy and security risks,\\n\\nDan Ives Fires Back: Trump’s Apple Plan Needs ‘Herculean Logistics’\\nOn Friday, May 23, Wedbush analyst Dan Ives rebuked President Donald Trump’s announcement of a special tariff on Apple Inc. (NASDAQ:AAPL) iPhones. In a bold move that could escalate tariff tensions, President Donald Trump demanded that Apple and other smartphone makers manufacture their phones in the United States- or face a 25% tariff instead. “I […]\\n\\nTrump threatens Apple Inc. (AAPL) with New Tariffs if iPhones Not Made in U.S.\\nPresident Trump has threatened Apple Inc. (NASDAQ:AAPL) with a 25% tariff for iPhones made outside the country. The latest jab follows Trump’s displeasure with Tim Cook over the company’s plans to manufacture iPhones set to be sold in the U.S. at its new plants in India. Trump on Friday posted the following on Truth Social: […]\""
      ]
     },
     "execution_count": 118,
     "metadata": {},
     "output_type": "execute_result"
    }
   ],
   "source": [
    "from langchain_community.tools.yahoo_finance_news import YahooFinanceNewsTool\n",
    "\n",
    "def fetch_company_finance_news(stock_code):\n",
    "    tool = YahooFinanceNewsTool()\n",
    "    result = tool.invoke(stock_code)\n",
    "    return result\n",
    "\n",
    "fetch_company_finance_news('AAPL')"
   ]
  },
  {
   "cell_type": "code",
   "execution_count": 79,
   "id": "e3ab7483",
   "metadata": {},
   "outputs": [],
   "source": [
    "from pydantic import BaseModel, Field\n",
    "from typing import List\n",
    "from langchain_core.output_parsers import PydanticOutputParser\n",
    "\n",
    "class OutputSchema(BaseModel):\n",
    "    company_name: str\n",
    "    stock_code: str\n",
    "    newsdesc: str\n",
    "    sentiment: str\n",
    "    people_names: List[str]\n",
    "    places_names: List[str]\n",
    "    other_companies_referred: List[str]\n",
    "    related_industries: List[str]\n",
    "    market_implications: str\n",
    "    confidence_score: float\n",
    "\n",
    "parser = PydanticOutputParser(pydantic_object=OutputSchema)"
   ]
  },
  {
   "cell_type": "code",
   "execution_count": null,
   "id": "a6fefc26",
   "metadata": {},
   "outputs": [],
   "source": [
    "from langchain_core.prompts import PromptTemplate\n",
    "\n",
    "def sentiment_analyzer(company_name):\n",
    "    trace = lf.trace(name=\"market_sentiment_analyzer\", input={\"company\": company_name})\n",
    "\n",
    "    span1 = trace.span(name=\"get_company_stock_code\", input={\"company_name\": company_name})\n",
    "    stock_code = get_company_stock_code(company_name)\n",
    "    span1.end(output={\"stock_code\": stock_code})\n",
    "    if stock_code == \"UNKNOWN\":\n",
    "        return \"UNKNOWN\"\n",
    "\n",
    "    span2 = trace.span(name=\"fetch_company_finance_news\", input={\"stock_code\": stock_code})\n",
    "    news = fetch_company_finance_news(stock_code)\n",
    "    span2.end(output={\"news\": news})\n",
    "\n",
    "    span3 = trace.span(name=\"analyze_sentiment\", input={\"news\": news})\n",
    "\n",
    "    prompt = PromptTemplate.from_template(\n",
    "        lf.get_prompt(\"market_sentiment_analyzer_prompt\").prompt\n",
    "    )\n",
    "    chain = prompt | llm | parser\n",
    "    output = chain.invoke({\n",
    "        \"company_name\": company_name,\n",
    "        \"news\": news,\n",
    "        \"format_instructions\": parser.get_format_instructions()\n",
    "    })\n",
    "\n",
    "    span3.end(output=output)\n",
    "\n",
    "    return output.model_dump()"
   ]
  },
  {
   "cell_type": "code",
   "execution_count": 124,
   "id": "44853e7b",
   "metadata": {},
   "outputs": [
    {
     "data": {
      "text/plain": [
       "{'company_name': 'Apple Inc.',\n",
       " 'stock_code': 'AAPL',\n",
       " 'newsdesc': 'Ex-Apple Engineers Behind $200M Xnor Deal Launch ElastixAI, Secure $16M To Revolutionize AI Inference Across Devices. Meta Platforms Inc. (NASDAQ:META) CEO Mark Zuckerberg criticized the proprietary AirPods protocol of Apple Inc. (NASDAQ:AAPL). Dan Ives rebuked Trump’s announcement of a special tariff on Apple Inc. iPhones. Trump threatened Apple Inc. (NASDAQ:AAPL) with a 25% tariff for iPhones made outside the U.S.',\n",
       " 'sentiment': 'mixed',\n",
       " 'people_names': ['Mark Zuckerberg', 'Dan Ives', 'Donald Trump', 'Tim Cook'],\n",
       " 'places_names': ['Seattle', 'India'],\n",
       " 'other_companies_referred': ['Meta Platforms Inc.', 'FUSE', 'Xnor'],\n",
       " 'related_industries': ['Artificial Intelligence',\n",
       "  'Technology',\n",
       "  'Manufacturing'],\n",
       " 'market_implications': \"Potential for increased production costs or tariffs affecting Apple's profitability. Opportunities in AI inference market from new startup.\",\n",
       " 'confidence_score': 0.75}"
      ]
     },
     "execution_count": 124,
     "metadata": {},
     "output_type": "execute_result"
    }
   ],
   "source": [
    "sentiment_analyzer(\"apple\")"
   ]
  },
  {
   "cell_type": "code",
   "execution_count": 127,
   "id": "e2879747",
   "metadata": {},
   "outputs": [
    {
     "data": {
      "text/plain": [
       "{'company_name': 'Alphabet Inc.',\n",
       " 'stock_code': 'GOOG',\n",
       " 'newsdesc': 'Investment bank TD Cowen, focusing on the potential of Alphabet Inc. (NASDAQ:GOOG)’s Waymo, kept a $195 price target and a Buy rating on GOOG recently. TD Cowen’s Analysis of Waymo The investment bank predicts that the U.S. gross bookings of Waymo, Alphabet Inc. (NASDAQ:GOOG)’s self-driving subsidiary, will jump to $6.1 billion in 2034. Disney files suit against YouTube for poaching executive, Bloomberg reports. Disney has filed a lawsuit against Alphabet’s (GOOG) YouTube, claiming breach of contract after YouTube hired longtime Disney executive Justin Connolly as its global head of media and sports, Bloomberg’s Lucas Shaw reports. Disney claims Connolly’s departure breaches his three-year contract and is seeking injunctions to stop his appointment, which will oversee YouTube’s relationships with major media companies and its live-sports portfolio.',\n",
       " 'sentiment': 'mixed',\n",
       " 'people_names': ['Justin Connolly', 'Lucas Shaw'],\n",
       " 'places_names': [],\n",
       " 'other_companies_referred': ['Disney'],\n",
       " 'related_industries': ['media', 'technology', 'automotive'],\n",
       " 'market_implications': \"The mixed sentiment could lead to fluctuations in Alphabet's stock performance due to potential growth from Waymo and legal challenges from Disney.\",\n",
       " 'confidence_score': 0.75}"
      ]
     },
     "execution_count": 127,
     "metadata": {},
     "output_type": "execute_result"
    }
   ],
   "source": [
    "sentiment_analyzer(\"Google\")"
   ]
  },
  {
   "cell_type": "code",
   "execution_count": 129,
   "id": "351f9fb0",
   "metadata": {},
   "outputs": [
    {
     "ename": "HTTPError",
     "evalue": "HTTP Error 404: ",
     "output_type": "error",
     "traceback": [
      "\u001b[31m---------------------------------------------------------------------------\u001b[39m",
      "\u001b[31mHTTPError\u001b[39m                                 Traceback (most recent call last)",
      "\u001b[36mCell\u001b[39m\u001b[36m \u001b[39m\u001b[32mIn[129]\u001b[39m\u001b[32m, line 1\u001b[39m\n\u001b[32m----> \u001b[39m\u001b[32m1\u001b[39m \u001b[43msentiment_analyzer\u001b[49m\u001b[43m(\u001b[49m\u001b[33;43m\"\u001b[39;49m\u001b[33;43mGooggle\u001b[39;49m\u001b[33;43m\"\u001b[39;49m\u001b[43m)\u001b[49m\n",
      "\u001b[36mCell\u001b[39m\u001b[36m \u001b[39m\u001b[32mIn[123]\u001b[39m\u001b[32m, line 11\u001b[39m, in \u001b[36msentiment_analyzer\u001b[39m\u001b[34m(company_name)\u001b[39m\n\u001b[32m      8\u001b[39m span1.end(output={\u001b[33m\"\u001b[39m\u001b[33mstock_code\u001b[39m\u001b[33m\"\u001b[39m: stock_code})\n\u001b[32m     10\u001b[39m span2 = trace.span(name=\u001b[33m\"\u001b[39m\u001b[33mfetch_company_finance_news\u001b[39m\u001b[33m\"\u001b[39m, \u001b[38;5;28minput\u001b[39m={\u001b[33m\"\u001b[39m\u001b[33mstock_code\u001b[39m\u001b[33m\"\u001b[39m: stock_code})\n\u001b[32m---> \u001b[39m\u001b[32m11\u001b[39m news = \u001b[43mfetch_company_finance_news\u001b[49m\u001b[43m(\u001b[49m\u001b[43mstock_code\u001b[49m\u001b[43m)\u001b[49m\n\u001b[32m     12\u001b[39m span2.end(output={\u001b[33m\"\u001b[39m\u001b[33mnews\u001b[39m\u001b[33m\"\u001b[39m: news})\n\u001b[32m     14\u001b[39m span3 = trace.span(name=\u001b[33m\"\u001b[39m\u001b[33manalyze_sentiment\u001b[39m\u001b[33m\"\u001b[39m, \u001b[38;5;28minput\u001b[39m={\u001b[33m\"\u001b[39m\u001b[33mnews\u001b[39m\u001b[33m\"\u001b[39m: news})\n",
      "\u001b[36mCell\u001b[39m\u001b[36m \u001b[39m\u001b[32mIn[118]\u001b[39m\u001b[32m, line 5\u001b[39m, in \u001b[36mfetch_company_finance_news\u001b[39m\u001b[34m(stock_code)\u001b[39m\n\u001b[32m      3\u001b[39m \u001b[38;5;28;01mdef\u001b[39;00m\u001b[38;5;250m \u001b[39m\u001b[34mfetch_company_finance_news\u001b[39m(stock_code):\n\u001b[32m      4\u001b[39m     tool = YahooFinanceNewsTool()\n\u001b[32m----> \u001b[39m\u001b[32m5\u001b[39m     result = \u001b[43mtool\u001b[49m\u001b[43m.\u001b[49m\u001b[43minvoke\u001b[49m\u001b[43m(\u001b[49m\u001b[43mstock_code\u001b[49m\u001b[43m)\u001b[49m\n\u001b[32m      6\u001b[39m     \u001b[38;5;28;01mreturn\u001b[39;00m result\n",
      "\u001b[36mFile \u001b[39m\u001b[32md:\\GenAI Architect Training\\venv\\Lib\\site-packages\\langchain_core\\tools\\base.py:513\u001b[39m, in \u001b[36mBaseTool.invoke\u001b[39m\u001b[34m(self, input, config, **kwargs)\u001b[39m\n\u001b[32m    505\u001b[39m \u001b[38;5;129m@override\u001b[39m\n\u001b[32m    506\u001b[39m \u001b[38;5;28;01mdef\u001b[39;00m\u001b[38;5;250m \u001b[39m\u001b[34minvoke\u001b[39m(\n\u001b[32m    507\u001b[39m     \u001b[38;5;28mself\u001b[39m,\n\u001b[32m   (...)\u001b[39m\u001b[32m    510\u001b[39m     **kwargs: Any,\n\u001b[32m    511\u001b[39m ) -> Any:\n\u001b[32m    512\u001b[39m     tool_input, kwargs = _prep_run_args(\u001b[38;5;28minput\u001b[39m, config, **kwargs)\n\u001b[32m--> \u001b[39m\u001b[32m513\u001b[39m     \u001b[38;5;28;01mreturn\u001b[39;00m \u001b[38;5;28;43mself\u001b[39;49m\u001b[43m.\u001b[49m\u001b[43mrun\u001b[49m\u001b[43m(\u001b[49m\u001b[43mtool_input\u001b[49m\u001b[43m,\u001b[49m\u001b[43m \u001b[49m\u001b[43m*\u001b[49m\u001b[43m*\u001b[49m\u001b[43mkwargs\u001b[49m\u001b[43m)\u001b[49m\n",
      "\u001b[36mFile \u001b[39m\u001b[32md:\\GenAI Architect Training\\venv\\Lib\\site-packages\\langchain_core\\tools\\base.py:774\u001b[39m, in \u001b[36mBaseTool.run\u001b[39m\u001b[34m(self, tool_input, verbose, start_color, color, callbacks, tags, metadata, run_name, run_id, config, tool_call_id, **kwargs)\u001b[39m\n\u001b[32m    772\u001b[39m \u001b[38;5;28;01mif\u001b[39;00m error_to_raise:\n\u001b[32m    773\u001b[39m     run_manager.on_tool_error(error_to_raise)\n\u001b[32m--> \u001b[39m\u001b[32m774\u001b[39m     \u001b[38;5;28;01mraise\u001b[39;00m error_to_raise\n\u001b[32m    775\u001b[39m output = _format_output(content, artifact, tool_call_id, \u001b[38;5;28mself\u001b[39m.name, status)\n\u001b[32m    776\u001b[39m run_manager.on_tool_end(output, color=color, name=\u001b[38;5;28mself\u001b[39m.name, **kwargs)\n",
      "\u001b[36mFile \u001b[39m\u001b[32md:\\GenAI Architect Training\\venv\\Lib\\site-packages\\langchain_core\\tools\\base.py:743\u001b[39m, in \u001b[36mBaseTool.run\u001b[39m\u001b[34m(self, tool_input, verbose, start_color, color, callbacks, tags, metadata, run_name, run_id, config, tool_call_id, **kwargs)\u001b[39m\n\u001b[32m    741\u001b[39m     \u001b[38;5;28;01mif\u001b[39;00m config_param := _get_runnable_config_param(\u001b[38;5;28mself\u001b[39m._run):\n\u001b[32m    742\u001b[39m         tool_kwargs = tool_kwargs | {config_param: config}\n\u001b[32m--> \u001b[39m\u001b[32m743\u001b[39m     response = \u001b[43mcontext\u001b[49m\u001b[43m.\u001b[49m\u001b[43mrun\u001b[49m\u001b[43m(\u001b[49m\u001b[38;5;28;43mself\u001b[39;49m\u001b[43m.\u001b[49m\u001b[43m_run\u001b[49m\u001b[43m,\u001b[49m\u001b[43m \u001b[49m\u001b[43m*\u001b[49m\u001b[43mtool_args\u001b[49m\u001b[43m,\u001b[49m\u001b[43m \u001b[49m\u001b[43m*\u001b[49m\u001b[43m*\u001b[49m\u001b[43mtool_kwargs\u001b[49m\u001b[43m)\u001b[49m\n\u001b[32m    744\u001b[39m \u001b[38;5;28;01mif\u001b[39;00m \u001b[38;5;28mself\u001b[39m.response_format == \u001b[33m\"\u001b[39m\u001b[33mcontent_and_artifact\u001b[39m\u001b[33m\"\u001b[39m:\n\u001b[32m    745\u001b[39m     \u001b[38;5;28;01mif\u001b[39;00m \u001b[38;5;129;01mnot\u001b[39;00m \u001b[38;5;28misinstance\u001b[39m(response, \u001b[38;5;28mtuple\u001b[39m) \u001b[38;5;129;01mor\u001b[39;00m \u001b[38;5;28mlen\u001b[39m(response) != \u001b[32m2\u001b[39m:\n",
      "\u001b[36mFile \u001b[39m\u001b[32md:\\GenAI Architect Training\\venv\\Lib\\site-packages\\langchain_community\\tools\\yahoo_finance_news.py:58\u001b[39m, in \u001b[36mYahooFinanceNewsTool._run\u001b[39m\u001b[34m(self, query, run_manager)\u001b[39m\n\u001b[32m     56\u001b[39m company = yfinance.Ticker(query)\n\u001b[32m     57\u001b[39m \u001b[38;5;28;01mtry\u001b[39;00m:\n\u001b[32m---> \u001b[39m\u001b[32m58\u001b[39m     \u001b[38;5;28;01mif\u001b[39;00m \u001b[43mcompany\u001b[49m\u001b[43m.\u001b[49m\u001b[43misin\u001b[49m \u001b[38;5;129;01mis\u001b[39;00m \u001b[38;5;28;01mNone\u001b[39;00m:\n\u001b[32m     59\u001b[39m         \u001b[38;5;28;01mreturn\u001b[39;00m \u001b[33mf\u001b[39m\u001b[33m\"\u001b[39m\u001b[33mCompany ticker \u001b[39m\u001b[38;5;132;01m{\u001b[39;00mquery\u001b[38;5;132;01m}\u001b[39;00m\u001b[33m not found.\u001b[39m\u001b[33m\"\u001b[39m\n\u001b[32m     60\u001b[39m \u001b[38;5;28;01mexcept\u001b[39;00m (HTTPError, ReadTimeout, \u001b[38;5;167;01mConnectionError\u001b[39;00m):\n",
      "\u001b[36mFile \u001b[39m\u001b[32md:\\GenAI Architect Training\\venv\\Lib\\site-packages\\yfinance\\ticker.py:111\u001b[39m, in \u001b[36mTicker.isin\u001b[39m\u001b[34m(self)\u001b[39m\n\u001b[32m    109\u001b[39m \u001b[38;5;129m@property\u001b[39m\n\u001b[32m    110\u001b[39m \u001b[38;5;28;01mdef\u001b[39;00m\u001b[38;5;250m \u001b[39m\u001b[34misin\u001b[39m(\u001b[38;5;28mself\u001b[39m):\n\u001b[32m--> \u001b[39m\u001b[32m111\u001b[39m     \u001b[38;5;28;01mreturn\u001b[39;00m \u001b[38;5;28;43mself\u001b[39;49m\u001b[43m.\u001b[49m\u001b[43mget_isin\u001b[49m\u001b[43m(\u001b[49m\u001b[43m)\u001b[49m\n",
      "\u001b[36mFile \u001b[39m\u001b[32md:\\GenAI Architect Training\\venv\\Lib\\site-packages\\yfinance\\base.py:642\u001b[39m, in \u001b[36mTickerBase.get_isin\u001b[39m\u001b[34m(self, proxy)\u001b[39m\n\u001b[32m    638\u001b[39m     \u001b[38;5;28;01mreturn\u001b[39;00m \u001b[38;5;28mself\u001b[39m._isin\n\u001b[32m    640\u001b[39m q = ticker\n\u001b[32m--> \u001b[39m\u001b[32m642\u001b[39m \u001b[38;5;28;01mif\u001b[39;00m \u001b[38;5;28;43mself\u001b[39;49m\u001b[43m.\u001b[49m\u001b[43m_quote\u001b[49m\u001b[43m.\u001b[49m\u001b[43minfo\u001b[49m \u001b[38;5;129;01mis\u001b[39;00m \u001b[38;5;28;01mNone\u001b[39;00m:\n\u001b[32m    643\u001b[39m     \u001b[38;5;66;03m# Don't print error message cause self._quote.info will print one\u001b[39;00m\n\u001b[32m    644\u001b[39m     \u001b[38;5;28;01mreturn\u001b[39;00m \u001b[38;5;28;01mNone\u001b[39;00m\n\u001b[32m    645\u001b[39m \u001b[38;5;28;01mif\u001b[39;00m \u001b[33m\"\u001b[39m\u001b[33mshortName\u001b[39m\u001b[33m\"\u001b[39m \u001b[38;5;129;01min\u001b[39;00m \u001b[38;5;28mself\u001b[39m._quote.info:\n",
      "\u001b[36mFile \u001b[39m\u001b[32md:\\GenAI Architect Training\\venv\\Lib\\site-packages\\yfinance\\scrapers\\quote.py:511\u001b[39m, in \u001b[36mQuote.info\u001b[39m\u001b[34m(self)\u001b[39m\n\u001b[32m    508\u001b[39m \u001b[38;5;129m@property\u001b[39m\n\u001b[32m    509\u001b[39m \u001b[38;5;28;01mdef\u001b[39;00m\u001b[38;5;250m \u001b[39m\u001b[34minfo\u001b[39m(\u001b[38;5;28mself\u001b[39m) -> \u001b[38;5;28mdict\u001b[39m:\n\u001b[32m    510\u001b[39m     \u001b[38;5;28;01mif\u001b[39;00m \u001b[38;5;28mself\u001b[39m._info \u001b[38;5;129;01mis\u001b[39;00m \u001b[38;5;28;01mNone\u001b[39;00m:\n\u001b[32m--> \u001b[39m\u001b[32m511\u001b[39m         \u001b[38;5;28;43mself\u001b[39;49m\u001b[43m.\u001b[49m\u001b[43m_fetch_info\u001b[49m\u001b[43m(\u001b[49m\u001b[43m)\u001b[49m\n\u001b[32m    512\u001b[39m         \u001b[38;5;28mself\u001b[39m._fetch_complementary()\n\u001b[32m    514\u001b[39m     \u001b[38;5;28;01mreturn\u001b[39;00m \u001b[38;5;28mself\u001b[39m._info\n",
      "\u001b[36mFile \u001b[39m\u001b[32md:\\GenAI Architect Training\\venv\\Lib\\site-packages\\yfinance\\scrapers\\quote.py:610\u001b[39m, in \u001b[36mQuote._fetch_info\u001b[39m\u001b[34m(self)\u001b[39m\n\u001b[32m    608\u001b[39m \u001b[38;5;28mself\u001b[39m._already_fetched = \u001b[38;5;28;01mTrue\u001b[39;00m\n\u001b[32m    609\u001b[39m modules = [\u001b[33m'\u001b[39m\u001b[33mfinancialData\u001b[39m\u001b[33m'\u001b[39m, \u001b[33m'\u001b[39m\u001b[33mquoteType\u001b[39m\u001b[33m'\u001b[39m, \u001b[33m'\u001b[39m\u001b[33mdefaultKeyStatistics\u001b[39m\u001b[33m'\u001b[39m, \u001b[33m'\u001b[39m\u001b[33massetProfile\u001b[39m\u001b[33m'\u001b[39m, \u001b[33m'\u001b[39m\u001b[33msummaryDetail\u001b[39m\u001b[33m'\u001b[39m]\n\u001b[32m--> \u001b[39m\u001b[32m610\u001b[39m result = \u001b[38;5;28;43mself\u001b[39;49m\u001b[43m.\u001b[49m\u001b[43m_fetch\u001b[49m\u001b[43m(\u001b[49m\u001b[43mmodules\u001b[49m\u001b[43m=\u001b[49m\u001b[43mmodules\u001b[49m\u001b[43m)\u001b[49m\n\u001b[32m    611\u001b[39m additional_info = \u001b[38;5;28mself\u001b[39m._fetch_additional_info()\n\u001b[32m    612\u001b[39m \u001b[38;5;28;01mif\u001b[39;00m additional_info \u001b[38;5;129;01mis\u001b[39;00m \u001b[38;5;129;01mnot\u001b[39;00m \u001b[38;5;28;01mNone\u001b[39;00m \u001b[38;5;129;01mand\u001b[39;00m result \u001b[38;5;129;01mis\u001b[39;00m \u001b[38;5;129;01mnot\u001b[39;00m \u001b[38;5;28;01mNone\u001b[39;00m:\n",
      "\u001b[36mFile \u001b[39m\u001b[32md:\\GenAI Architect Training\\venv\\Lib\\site-packages\\yfinance\\scrapers\\quote.py:590\u001b[39m, in \u001b[36mQuote._fetch\u001b[39m\u001b[34m(self, modules)\u001b[39m\n\u001b[32m    588\u001b[39m params_dict = {\u001b[33m\"\u001b[39m\u001b[33mmodules\u001b[39m\u001b[33m\"\u001b[39m: modules, \u001b[33m\"\u001b[39m\u001b[33mcorsDomain\u001b[39m\u001b[33m\"\u001b[39m: \u001b[33m\"\u001b[39m\u001b[33mfinance.yahoo.com\u001b[39m\u001b[33m\"\u001b[39m, \u001b[33m\"\u001b[39m\u001b[33mformatted\u001b[39m\u001b[33m\"\u001b[39m: \u001b[33m\"\u001b[39m\u001b[33mfalse\u001b[39m\u001b[33m\"\u001b[39m, \u001b[33m\"\u001b[39m\u001b[33msymbol\u001b[39m\u001b[33m\"\u001b[39m: \u001b[38;5;28mself\u001b[39m._symbol}\n\u001b[32m    589\u001b[39m \u001b[38;5;28;01mtry\u001b[39;00m:\n\u001b[32m--> \u001b[39m\u001b[32m590\u001b[39m     result = \u001b[38;5;28;43mself\u001b[39;49m\u001b[43m.\u001b[49m\u001b[43m_data\u001b[49m\u001b[43m.\u001b[49m\u001b[43mget_raw_json\u001b[49m\u001b[43m(\u001b[49m\u001b[43m_QUOTE_SUMMARY_URL_\u001b[49m\u001b[43m \u001b[49m\u001b[43m+\u001b[49m\u001b[43m \u001b[49m\u001b[33;43mf\u001b[39;49m\u001b[33;43m\"\u001b[39;49m\u001b[33;43m/\u001b[39;49m\u001b[38;5;132;43;01m{\u001b[39;49;00m\u001b[38;5;28;43mself\u001b[39;49m\u001b[43m.\u001b[49m\u001b[43m_symbol\u001b[49m\u001b[38;5;132;43;01m}\u001b[39;49;00m\u001b[33;43m\"\u001b[39;49m\u001b[43m,\u001b[49m\u001b[43m \u001b[49m\u001b[43mparams\u001b[49m\u001b[43m=\u001b[49m\u001b[43mparams_dict\u001b[49m\u001b[43m)\u001b[49m\n\u001b[32m    591\u001b[39m \u001b[38;5;28;01mexcept\u001b[39;00m requests.exceptions.HTTPError \u001b[38;5;28;01mas\u001b[39;00m e:\n\u001b[32m    592\u001b[39m     utils.get_yf_logger().error(\u001b[38;5;28mstr\u001b[39m(e))\n",
      "\u001b[36mFile \u001b[39m\u001b[32md:\\GenAI Architect Training\\venv\\Lib\\site-packages\\yfinance\\data.py:425\u001b[39m, in \u001b[36mYfData.get_raw_json\u001b[39m\u001b[34m(self, url, params, timeout)\u001b[39m\n\u001b[32m    423\u001b[39m utils.get_yf_logger().debug(\u001b[33mf\u001b[39m\u001b[33m'\u001b[39m\u001b[33mget_raw_json(): \u001b[39m\u001b[38;5;132;01m{\u001b[39;00murl\u001b[38;5;132;01m}\u001b[39;00m\u001b[33m'\u001b[39m)\n\u001b[32m    424\u001b[39m response = \u001b[38;5;28mself\u001b[39m.get(url, params=params, timeout=timeout)\n\u001b[32m--> \u001b[39m\u001b[32m425\u001b[39m \u001b[43mresponse\u001b[49m\u001b[43m.\u001b[49m\u001b[43mraise_for_status\u001b[49m\u001b[43m(\u001b[49m\u001b[43m)\u001b[49m\n\u001b[32m    426\u001b[39m \u001b[38;5;28;01mreturn\u001b[39;00m response.json()\n",
      "\u001b[36mFile \u001b[39m\u001b[32md:\\GenAI Architect Training\\venv\\Lib\\site-packages\\curl_cffi\\requests\\models.py:167\u001b[39m, in \u001b[36mResponse.raise_for_status\u001b[39m\u001b[34m(self)\u001b[39m\n\u001b[32m    165\u001b[39m \u001b[38;5;250m\u001b[39m\u001b[33;03m\"\"\"Raise an error if status code is not in [200, 400)\"\"\"\u001b[39;00m\n\u001b[32m    166\u001b[39m \u001b[38;5;28;01mif\u001b[39;00m \u001b[38;5;129;01mnot\u001b[39;00m \u001b[38;5;28mself\u001b[39m.ok:\n\u001b[32m--> \u001b[39m\u001b[32m167\u001b[39m     \u001b[38;5;28;01mraise\u001b[39;00m HTTPError(\u001b[33mf\u001b[39m\u001b[33m\"\u001b[39m\u001b[33mHTTP Error \u001b[39m\u001b[38;5;132;01m{\u001b[39;00m\u001b[38;5;28mself\u001b[39m.status_code\u001b[38;5;132;01m}\u001b[39;00m\u001b[33m: \u001b[39m\u001b[38;5;132;01m{\u001b[39;00m\u001b[38;5;28mself\u001b[39m.reason\u001b[38;5;132;01m}\u001b[39;00m\u001b[33m\"\u001b[39m, \u001b[32m0\u001b[39m, \u001b[38;5;28mself\u001b[39m)\n",
      "\u001b[31mHTTPError\u001b[39m: HTTP Error 404: "
     ]
    }
   ],
   "source": [
    "sentiment_analyzer(\"Googgle\")"
   ]
  }
 ],
 "metadata": {
  "kernelspec": {
   "display_name": "venv",
   "language": "python",
   "name": "python3"
  },
  "language_info": {
   "codemirror_mode": {
    "name": "ipython",
    "version": 3
   },
   "file_extension": ".py",
   "mimetype": "text/x-python",
   "name": "python",
   "nbconvert_exporter": "python",
   "pygments_lexer": "ipython3",
   "version": "3.13.2"
  }
 },
 "nbformat": 4,
 "nbformat_minor": 5
}
